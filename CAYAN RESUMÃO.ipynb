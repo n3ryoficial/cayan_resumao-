{
 "cells": [
  {
   "cell_type": "code",
   "execution_count": 3,
   "metadata": {},
   "outputs": [],
   "source": [
    "#resmumo da materia cayn \n",
    "\n",
    "# em topicos  de regressão linear  regressão logica/ gradiente decendente / e newthon raspon "
   ]
  },
  {
   "cell_type": "markdown",
   "metadata": {},
   "source": [
    "Modelo simple de regressão Linear :"
   ]
  },
  {
   "cell_type": "code",
   "execution_count": 4,
   "metadata": {},
   "outputs": [],
   "source": [
    "# bibliotecas permitidas \n",
    "\n",
    "import pandas as pd \n",
    "import numpy as np \n",
    "from sklearn.linear_model import LinearRegression\n",
    "import statsmodels.formula.api as smf\n",
    "import matplotlib.pyplot as plt\n",
    "\n",
    "\n"
   ]
  },
  {
   "cell_type": "code",
   "execution_count": 5,
   "metadata": {},
   "outputs": [],
   "source": [
    "# Display only 2 decimals on pandas data frames\n",
    "pd.options.display.float_format = '{:.2f}'.format\n",
    "\n",
    "# Display all cell results (not only last one)\n",
    "from IPython.core.interactiveshell import InteractiveShell\n",
    "InteractiveShell.ast_node_interactivity = \"all\""
   ]
  },
  {
   "cell_type": "code",
   "execution_count": 6,
   "metadata": {},
   "outputs": [
    {
     "data": {
      "text/html": [
       "<div>\n",
       "<style scoped>\n",
       "    .dataframe tbody tr th:only-of-type {\n",
       "        vertical-align: middle;\n",
       "    }\n",
       "\n",
       "    .dataframe tbody tr th {\n",
       "        vertical-align: top;\n",
       "    }\n",
       "\n",
       "    .dataframe thead th {\n",
       "        text-align: right;\n",
       "    }\n",
       "</style>\n",
       "<table border=\"1\" class=\"dataframe\">\n",
       "  <thead>\n",
       "    <tr style=\"text-align: right;\">\n",
       "      <th></th>\n",
       "      <th>car</th>\n",
       "      <th>mpg</th>\n",
       "      <th>cyl</th>\n",
       "      <th>disp</th>\n",
       "      <th>hp</th>\n",
       "      <th>drat</th>\n",
       "      <th>wt</th>\n",
       "      <th>qsec</th>\n",
       "      <th>vs</th>\n",
       "      <th>am</th>\n",
       "      <th>gear</th>\n",
       "      <th>carb</th>\n",
       "    </tr>\n",
       "  </thead>\n",
       "  <tbody>\n",
       "    <tr>\n",
       "      <th>0</th>\n",
       "      <td>Mazda RX4</td>\n",
       "      <td>21.00</td>\n",
       "      <td>6</td>\n",
       "      <td>160.00</td>\n",
       "      <td>110</td>\n",
       "      <td>3.90</td>\n",
       "      <td>2.62</td>\n",
       "      <td>16.46</td>\n",
       "      <td>0</td>\n",
       "      <td>1</td>\n",
       "      <td>4</td>\n",
       "      <td>4</td>\n",
       "    </tr>\n",
       "    <tr>\n",
       "      <th>1</th>\n",
       "      <td>Mazda RX4 Wag</td>\n",
       "      <td>21.00</td>\n",
       "      <td>6</td>\n",
       "      <td>160.00</td>\n",
       "      <td>110</td>\n",
       "      <td>3.90</td>\n",
       "      <td>2.88</td>\n",
       "      <td>17.02</td>\n",
       "      <td>0</td>\n",
       "      <td>1</td>\n",
       "      <td>4</td>\n",
       "      <td>4</td>\n",
       "    </tr>\n",
       "    <tr>\n",
       "      <th>2</th>\n",
       "      <td>Datsun 710</td>\n",
       "      <td>22.80</td>\n",
       "      <td>4</td>\n",
       "      <td>108.00</td>\n",
       "      <td>93</td>\n",
       "      <td>3.85</td>\n",
       "      <td>2.32</td>\n",
       "      <td>18.61</td>\n",
       "      <td>1</td>\n",
       "      <td>1</td>\n",
       "      <td>4</td>\n",
       "      <td>1</td>\n",
       "    </tr>\n",
       "    <tr>\n",
       "      <th>3</th>\n",
       "      <td>Hornet 4 Drive</td>\n",
       "      <td>21.40</td>\n",
       "      <td>6</td>\n",
       "      <td>258.00</td>\n",
       "      <td>110</td>\n",
       "      <td>3.08</td>\n",
       "      <td>3.21</td>\n",
       "      <td>19.44</td>\n",
       "      <td>1</td>\n",
       "      <td>0</td>\n",
       "      <td>3</td>\n",
       "      <td>1</td>\n",
       "    </tr>\n",
       "    <tr>\n",
       "      <th>4</th>\n",
       "      <td>Hornet Sportabout</td>\n",
       "      <td>18.70</td>\n",
       "      <td>8</td>\n",
       "      <td>360.00</td>\n",
       "      <td>175</td>\n",
       "      <td>3.15</td>\n",
       "      <td>3.44</td>\n",
       "      <td>17.02</td>\n",
       "      <td>0</td>\n",
       "      <td>0</td>\n",
       "      <td>3</td>\n",
       "      <td>2</td>\n",
       "    </tr>\n",
       "  </tbody>\n",
       "</table>\n",
       "</div>"
      ],
      "text/plain": [
       "                 car   mpg  cyl   disp   hp  drat   wt  qsec  vs  am  gear  \\\n",
       "0          Mazda RX4 21.00    6 160.00  110  3.90 2.62 16.46   0   1     4   \n",
       "1      Mazda RX4 Wag 21.00    6 160.00  110  3.90 2.88 17.02   0   1     4   \n",
       "2         Datsun 710 22.80    4 108.00   93  3.85 2.32 18.61   1   1     4   \n",
       "3     Hornet 4 Drive 21.40    6 258.00  110  3.08 3.21 19.44   1   0     3   \n",
       "4  Hornet Sportabout 18.70    8 360.00  175  3.15 3.44 17.02   0   0     3   \n",
       "\n",
       "   carb  \n",
       "0     4  \n",
       "1     4  \n",
       "2     1  \n",
       "3     1  \n",
       "4     2  "
      ]
     },
     "execution_count": 6,
     "metadata": {},
     "output_type": "execute_result"
    }
   ],
   "source": [
    "dados = pd.read_csv(r'c:\\Users\\rsc01\\Downloads\\mtcars.csv')\n",
    "dados.head()"
   ]
  },
  {
   "cell_type": "code",
   "execution_count": 7,
   "metadata": {},
   "outputs": [
    {
     "data": {
      "text/plain": [
       "LinearRegression()"
      ]
     },
     "execution_count": 7,
     "metadata": {},
     "output_type": "execute_result"
    }
   ],
   "source": [
    "#valores \n",
    "X = dados[['wt']]\n",
    "y = dados[['mpg']]\n",
    "\n",
    "regr = LinearRegression()\n",
    "regr.fit(X, y)\n"
   ]
  },
  {
   "cell_type": "code",
   "execution_count": 8,
   "metadata": {},
   "outputs": [
    {
     "name": "stdout",
     "output_type": "stream",
     "text": [
      "LinearRegression()\n",
      "b0: [37.2851]\n",
      "b1: [-5.3445]\n"
     ]
    }
   ],
   "source": [
    "#beta zero \n",
    "b0 = regr.intercept_\n",
    "\n",
    "# beta inicial \n",
    "b1 = regr.coef_[0]\n",
    "\n",
    "print(f\"LinearRegression()\")\n",
    "print(f\"b0: {np.round(b0, 4)}\\nb1: {np.round(b1, 4)}\")"
   ]
  },
  {
   "cell_type": "code",
   "execution_count": 9,
   "metadata": {},
   "outputs": [],
   "source": [
    "#calculaando o b0 e b1\n",
    "def beta_zero(x,y,b1):\n",
    "    x_barra = np.mean(x)\n",
    "    y_barra = np.mean(y)\n",
    "    b0 = y_barra - b1 * x_barra\n",
    "    return(b0)\n"
   ]
  },
  {
   "cell_type": "code",
   "execution_count": 10,
   "metadata": {},
   "outputs": [],
   "source": [
    "def beta_um(x,y):\n",
    "    x_barra = np.mean(x)\n",
    "    y_barra = np.mean(y)\n",
    "    b1_cima = ((x - x_barra )* (y - y_barra)).sum()\n",
    "    b1_baixo = ((x - x_barra)**2).sum()\n",
    "    b1 = b1_cima / b1_baixo\n",
    "\n",
    "    return(b1)"
   ]
  },
  {
   "cell_type": "code",
   "execution_count": 11,
   "metadata": {},
   "outputs": [
    {
     "name": "stdout",
     "output_type": "stream",
     "text": [
      "LinearRegression()\n",
      "b0: [37.2851]\n",
      "b1:[-5.3445]\n",
      "\n",
      "Betas\n",
      "b0: 37.2851\n",
      "b1: (-5.344471572722676, 4)\n"
     ]
    }
   ],
   "source": [
    "#definindo x  / y \n",
    "x_ = dados['wt']\n",
    "y_  = dados['mpg']\n",
    "\n",
    "b1_ = beta_um(x_, y_)\n",
    "b0_ = beta_zero(x_, y_, b1 = b1_)\n",
    "\n",
    "print(f\"LinearRegression()\")\n",
    "print(f\"b0: {np.round(b0, 4)}\\nb1:{np.round(b1, 4)}\" )\n",
    "\n",
    "print(f\"\\nBetas\")\n",
    "print(f\"b0: {np.round(b0_, 4)}\\nb1: {(b1_, 4)}\")"
   ]
  },
  {
   "cell_type": "code",
   "execution_count": 12,
   "metadata": {},
   "outputs": [
    {
     "data": {
      "text/html": [
       "<div>\n",
       "<style scoped>\n",
       "    .dataframe tbody tr th:only-of-type {\n",
       "        vertical-align: middle;\n",
       "    }\n",
       "\n",
       "    .dataframe tbody tr th {\n",
       "        vertical-align: top;\n",
       "    }\n",
       "\n",
       "    .dataframe thead th {\n",
       "        text-align: right;\n",
       "    }\n",
       "</style>\n",
       "<table border=\"1\" class=\"dataframe\">\n",
       "  <thead>\n",
       "    <tr style=\"text-align: right;\">\n",
       "      <th></th>\n",
       "      <th>nota</th>\n",
       "      <th>hrs_estudo</th>\n",
       "      <th>faltas</th>\n",
       "    </tr>\n",
       "  </thead>\n",
       "  <tbody>\n",
       "    <tr>\n",
       "      <th>0</th>\n",
       "      <td>9.00</td>\n",
       "      <td>4.00</td>\n",
       "      <td>2</td>\n",
       "    </tr>\n",
       "    <tr>\n",
       "      <th>1</th>\n",
       "      <td>7.00</td>\n",
       "      <td>4.00</td>\n",
       "      <td>1</td>\n",
       "    </tr>\n",
       "    <tr>\n",
       "      <th>2</th>\n",
       "      <td>5.50</td>\n",
       "      <td>2.00</td>\n",
       "      <td>4</td>\n",
       "    </tr>\n",
       "    <tr>\n",
       "      <th>3</th>\n",
       "      <td>8.00</td>\n",
       "      <td>3.00</td>\n",
       "      <td>1</td>\n",
       "    </tr>\n",
       "    <tr>\n",
       "      <th>4</th>\n",
       "      <td>2.00</td>\n",
       "      <td>0.50</td>\n",
       "      <td>5</td>\n",
       "    </tr>\n",
       "  </tbody>\n",
       "</table>\n",
       "</div>"
      ],
      "text/plain": [
       "   nota  hrs_estudo  faltas\n",
       "0  9.00        4.00       2\n",
       "1  7.00        4.00       1\n",
       "2  5.50        2.00       4\n",
       "3  8.00        3.00       1\n",
       "4  2.00        0.50       5"
      ]
     },
     "execution_count": 12,
     "metadata": {},
     "output_type": "execute_result"
    }
   ],
   "source": [
    "#dados de horas de estudo \n",
    "df = pd.read_csv(r'c:\\Users\\rsc01\\Downloads\\df_notas.csv')\n",
    "df.head()"
   ]
  },
  {
   "cell_type": "code",
   "execution_count": 13,
   "metadata": {},
   "outputs": [
    {
     "name": "stdout",
     "output_type": "stream",
     "text": [
      "Intercepto:  2.30| HORAS DE ESTUDO : 1.50\n",
      "Intercepto:  3.50| HORAS DE ESTUDO : 1.27 | FALTAS : -0.26 \n"
     ]
    }
   ],
   "source": [
    "# Modelo 1: Regressão com horas de estudo\n",
    "modelo_1 = smf.ols(\"nota ~ hrs_estudo\", data=df).fit()\n",
    "\n",
    "# Modelo 2: Regressão com horas de estudo e faltas\n",
    "modelo_2 = smf.ols(\"nota ~ hrs_estudo + faltas\", data=df).fit()\n",
    "\n",
    "print(f\"Intercepto: {modelo_1.params['Intercept']: .2f}| HORAS DE ESTUDO : {modelo_1.params['hrs_estudo']:.2f}\")\n",
    "print(f\"Intercepto: {modelo_2.params['Intercept']: .2f}| HORAS DE ESTUDO : {modelo_2.params['hrs_estudo']:.2f} | FALTAS : {modelo_2.params['faltas']:.2f} \")"
   ]
  },
  {
   "cell_type": "code",
   "execution_count": 14,
   "metadata": {},
   "outputs": [],
   "source": [
    "#funções auxiliares \n",
    "\n",
    "def mean(values):\n",
    "    return sum(values) / len(values)\n",
    "def variance(values, mean_values):\n",
    "    return sum((x - mean_values)** 2 for x in values)\n",
    "def covariance(x, mean_x, y, mean_y):\n",
    "    return sum((x[i] - mean_x) * (y[i] - mean_y) for i in range(len(x)))"
   ]
  },
  {
   "cell_type": "code",
   "execution_count": 15,
   "metadata": {},
   "outputs": [
    {
     "name": "stdout",
     "output_type": "stream",
     "text": [
      "β0 (Intercepto): 3.502605153467213\n",
      "β1 (Coeficiente Hrs_estudo): 1.2660098522167509\n",
      "β2 (Coeficiente Faltas): -0.26056271314891827\n"
     ]
    },
    {
     "data": {
      "text/plain": [
       "<matplotlib.collections.PathCollection at 0x2c631fa49a0>"
      ]
     },
     "execution_count": 15,
     "metadata": {},
     "output_type": "execute_result"
    },
    {
     "data": {
      "text/plain": [
       "<matplotlib.collections.PathCollection at 0x2c631fb4ee0>"
      ]
     },
     "execution_count": 15,
     "metadata": {},
     "output_type": "execute_result"
    },
    {
     "data": {
      "text/plain": [
       "[<matplotlib.lines.Line2D at 0x2c631fd3430>]"
      ]
     },
     "execution_count": 15,
     "metadata": {},
     "output_type": "execute_result"
    },
    {
     "data": {
      "text/plain": [
       "Text(0.5, 0, 'Hrs_estudo / Faltas')"
      ]
     },
     "execution_count": 15,
     "metadata": {},
     "output_type": "execute_result"
    },
    {
     "data": {
      "text/plain": [
       "Text(0, 0.5, 'Nota')"
      ]
     },
     "execution_count": 15,
     "metadata": {},
     "output_type": "execute_result"
    },
    {
     "data": {
      "text/plain": [
       "Text(0.5, 1.0, 'Regressão Linear Simples')"
      ]
     },
     "execution_count": 15,
     "metadata": {},
     "output_type": "execute_result"
    },
    {
     "data": {
      "text/plain": [
       "<matplotlib.legend.Legend at 0x2c631fb4df0>"
      ]
     },
     "execution_count": 15,
     "metadata": {},
     "output_type": "execute_result"
    },
    {
     "data": {
      "image/png": "[encoded data removed]",
      "text/plain": [
       "<Figure size 640x480 with 1 Axes>"
      ]
     },
     "metadata": {},
     "output_type": "display_data"
    }
   ],
   "source": [
    "#medias das variavies  \n",
    "mean_hrs_estudo = mean(df['hrs_estudo'])\n",
    "mean_faltas = mean(df['faltas'])\n",
    "mean_nota = mean(df['nota'])\n",
    "\n",
    "# Variâncias e covariâncias\n",
    "var_hrs_estudo = variance(df['hrs_estudo'], mean_hrs_estudo)\n",
    "var_faltas = variance(df['faltas'], mean_faltas)\n",
    "\n",
    "covar_nota_hrs_estudo = covariance(df['hrs_estudo'], mean_hrs_estudo, df['nota'], mean_nota)\n",
    "covar_nota_faltas = covariance(df['faltas'], mean_faltas, df['nota'], mean_nota)\n",
    "\n",
    "# Calcular os coeficientes β1 e β2\n",
    "beta1 = (covar_nota_hrs_estudo * var_faltas - covar_nota_faltas * covariance(df['hrs_estudo'], mean_hrs_estudo, df['faltas'], mean_faltas)) / (var_hrs_estudo * var_faltas - covariance(df['hrs_estudo'], mean_hrs_estudo, df['faltas'], mean_faltas) ** 2)\n",
    "beta2 = (covar_nota_faltas - beta1 * covariance(df['hrs_estudo'], mean_hrs_estudo, df['faltas'], mean_faltas)) / var_faltas\n",
    "\n",
    "# Calcular o coeficiente β0\n",
    "beta0 = mean_nota - beta1 * mean_hrs_estudo - beta2 * mean_faltas\n",
    "\n",
    "# Exibir os coeficientes calculados manualmente\n",
    "print(f\"β0 (Intercepto): {beta0}\")\n",
    "print(f\"β1 (Coeficiente Hrs_estudo): {beta1}\")\n",
    "print(f\"β2 (Coeficiente Faltas): {beta2}\")\n",
    "\n",
    "# Função para fazer previsões\n",
    "def predict(hrs, fal):\n",
    "    return beta0 + beta1 * hrs + beta2 * fal\n",
    "\n",
    "# Fazer previsões com base nos dados\n",
    "nota_pred = [predict(h, f) for h, f in zip(df['hrs_estudo'], df['faltas'])]\n",
    "\n",
    "# Gráfico: Hora de Estudo x Nota e Faltas x Nota\n",
    "plt.scatter(df['hrs_estudo'], df['nota'], color='blue', label='Hrs_estudo x Nota')\n",
    "plt.scatter(df['faltas'], df['nota'], color='red', label='Faltas x Nota')\n",
    "\n",
    "# Adicionar a linha de regressão\n",
    "plt.plot(df['hrs_estudo'], nota_pred, color='green', label='Linha de Regressão')\n",
    "\n",
    "# Adicionar rótulos e título\n",
    "plt.xlabel('Hrs_estudo / Faltas')\n",
    "plt.ylabel('Nota')\n",
    "plt.title('Regressão Linear Simples')\n",
    "plt.legend()\n",
    "\n",
    "# Mostrar o gráfico\n",
    "plt.show()"
   ]
  },
  {
   "cell_type": "markdown",
   "metadata": {},
   "source": [
    "Gradiente decendente "
   ]
  },
  {
   "cell_type": "markdown",
   "metadata": {},
   "source": [
    "É um dos algoritimos de otimização mais ultizados especificamente em redes neurais e regressão linear. seu objetivo é minimizar a função de custo (geralmente  o erro  medio quadratico) ajustando os paramentros de B(beta) \n",
    "\n",
    "* O gradiente calcula a direção em que os parametros B devem ser ajustado para minizar o erro \n",
    "* no caso da regressão linar o calculo dos parametros beta é feito para minimizar o erro quadratico medio e não é necessario igualar a derivada a zero diretamente \n",
    "\n",
    "usado encontrar os parametros que minizam a função de custo em relação aos parametros beta e ajustando os pesos de acordo com direção do gradiente "
   ]
  },
  {
   "cell_type": "markdown",
   "metadata": {},
   "source": [
    "o vetor de derivadas parciais em relação aos parâmetros \n",
    "β\n",
    ". A taxa de aprendizado \n",
    "α\n",
    " determina o tamanho do passo em cada atualização, visando atingir o mínimo (local).\n",
    "uma taxa de aprendizado muito pequena são necessários muitas iterações para encontrar o mínimo. Todavia, caso a taxa de aprendizado seja muito grande, você pode acabar “pulando” o ponto de mínimo desejado"
   ]
  },
  {
   "cell_type": "code",
   "execution_count": 16,
   "metadata": {},
   "outputs": [
    {
     "data": {
      "text/html": [
       "<div>\n",
       "<style scoped>\n",
       "    .dataframe tbody tr th:only-of-type {\n",
       "        vertical-align: middle;\n",
       "    }\n",
       "\n",
       "    .dataframe tbody tr th {\n",
       "        vertical-align: top;\n",
       "    }\n",
       "\n",
       "    .dataframe thead th {\n",
       "        text-align: right;\n",
       "    }\n",
       "</style>\n",
       "<table border=\"1\" class=\"dataframe\">\n",
       "  <thead>\n",
       "    <tr style=\"text-align: right;\">\n",
       "      <th></th>\n",
       "      <th>customer_id</th>\n",
       "      <th>credit_score</th>\n",
       "      <th>country</th>\n",
       "      <th>gender</th>\n",
       "      <th>age</th>\n",
       "      <th>tenure</th>\n",
       "      <th>balance</th>\n",
       "      <th>products_number</th>\n",
       "      <th>credit_card</th>\n",
       "      <th>active_member</th>\n",
       "      <th>estimated_salary</th>\n",
       "      <th>churn</th>\n",
       "    </tr>\n",
       "  </thead>\n",
       "  <tbody>\n",
       "    <tr>\n",
       "      <th>0</th>\n",
       "      <td>15765192</td>\n",
       "      <td>564</td>\n",
       "      <td>France</td>\n",
       "      <td>Male</td>\n",
       "      <td>26</td>\n",
       "      <td>7</td>\n",
       "      <td>84006.88</td>\n",
       "      <td>2</td>\n",
       "      <td>0</td>\n",
       "      <td>0</td>\n",
       "      <td>183490.99</td>\n",
       "      <td>0</td>\n",
       "    </tr>\n",
       "    <tr>\n",
       "      <th>1</th>\n",
       "      <td>15631882</td>\n",
       "      <td>688</td>\n",
       "      <td>Germany</td>\n",
       "      <td>Male</td>\n",
       "      <td>45</td>\n",
       "      <td>9</td>\n",
       "      <td>103399.87</td>\n",
       "      <td>1</td>\n",
       "      <td>0</td>\n",
       "      <td>0</td>\n",
       "      <td>129870.93</td>\n",
       "      <td>0</td>\n",
       "    </tr>\n",
       "    <tr>\n",
       "      <th>2</th>\n",
       "      <td>15777586</td>\n",
       "      <td>784</td>\n",
       "      <td>Spain</td>\n",
       "      <td>Female</td>\n",
       "      <td>42</td>\n",
       "      <td>2</td>\n",
       "      <td>109052.04</td>\n",
       "      <td>2</td>\n",
       "      <td>1</td>\n",
       "      <td>0</td>\n",
       "      <td>6409.55</td>\n",
       "      <td>0</td>\n",
       "    </tr>\n",
       "    <tr>\n",
       "      <th>3</th>\n",
       "      <td>15577107</td>\n",
       "      <td>657</td>\n",
       "      <td>Spain</td>\n",
       "      <td>Female</td>\n",
       "      <td>22</td>\n",
       "      <td>6</td>\n",
       "      <td>0.00</td>\n",
       "      <td>3</td>\n",
       "      <td>0</td>\n",
       "      <td>1</td>\n",
       "      <td>168412.07</td>\n",
       "      <td>1</td>\n",
       "    </tr>\n",
       "    <tr>\n",
       "      <th>4</th>\n",
       "      <td>15722731</td>\n",
       "      <td>653</td>\n",
       "      <td>France</td>\n",
       "      <td>Male</td>\n",
       "      <td>46</td>\n",
       "      <td>0</td>\n",
       "      <td>119556.10</td>\n",
       "      <td>1</td>\n",
       "      <td>1</td>\n",
       "      <td>0</td>\n",
       "      <td>78250.13</td>\n",
       "      <td>1</td>\n",
       "    </tr>\n",
       "  </tbody>\n",
       "</table>\n",
       "</div>"
      ],
      "text/plain": [
       "   customer_id  credit_score  country  gender  age  tenure   balance  \\\n",
       "0     15765192           564   France    Male   26       7  84006.88   \n",
       "1     15631882           688  Germany    Male   45       9 103399.87   \n",
       "2     15777586           784    Spain  Female   42       2 109052.04   \n",
       "3     15577107           657    Spain  Female   22       6      0.00   \n",
       "4     15722731           653   France    Male   46       0 119556.10   \n",
       "\n",
       "   products_number  credit_card  active_member  estimated_salary  churn  \n",
       "0                2            0              0         183490.99      0  \n",
       "1                1            0              0         129870.93      0  \n",
       "2                2            1              0           6409.55      0  \n",
       "3                3            0              1         168412.07      1  \n",
       "4                1            1              0          78250.13      1  "
      ]
     },
     "execution_count": 16,
     "metadata": {},
     "output_type": "execute_result"
    }
   ],
   "source": [
    "# ultilização em dados reais \n",
    "dados2 = pd.read_csv(r'c:\\Users\\rsc01\\Downloads\\bank_customer_treino (1).csv')\n",
    "dados2.head()"
   ]
  },
  {
   "cell_type": "code",
   "execution_count": 17,
   "metadata": {},
   "outputs": [],
   "source": [
    "# pre pocessaamoento \n",
    "dados2['gender'] = np.where(dados2.gender == \"Male\", 1,0)"
   ]
  },
  {
   "cell_type": "code",
   "execution_count": 18,
   "metadata": {},
   "outputs": [],
   "source": [
    "#funções auxiliadores  \n",
    "\n",
    "def normaliza(coluna):\n",
    "    return (coluna - coluna.mean()) / coluna.std()\n",
    "# Função para criar a matriz X\n",
    "def matriz_x(colunas, dados2):\n",
    "    return dados2[colunas].values\n",
    "def beta_inicial(X):\n",
    "    return np.zeros(X.shape[1])\n",
    "def calcula_p(X, B):\n",
    "    z = X @ B\n",
    "    return 1 / (1 + np.exp(-z))\n",
    "def w_diag(p):\n",
    "    return np.diag(p * (1- p))\n",
    "def beta_update(X, w, y, p):\n",
    "    return np.linalg.inv(X.T @ w @ X) @ X.T @ ( y - p )"
   ]
  },
  {
   "cell_type": "code",
   "execution_count": 19,
   "metadata": {},
   "outputs": [
    {
     "data": {
      "text/html": [
       "<div>\n",
       "<style scoped>\n",
       "    .dataframe tbody tr th:only-of-type {\n",
       "        vertical-align: middle;\n",
       "    }\n",
       "\n",
       "    .dataframe tbody tr th {\n",
       "        vertical-align: top;\n",
       "    }\n",
       "\n",
       "    .dataframe thead th {\n",
       "        text-align: right;\n",
       "    }\n",
       "</style>\n",
       "<table border=\"1\" class=\"dataframe\">\n",
       "  <thead>\n",
       "    <tr style=\"text-align: right;\">\n",
       "      <th></th>\n",
       "      <th>customer_id</th>\n",
       "      <th>credit_score</th>\n",
       "      <th>country</th>\n",
       "      <th>gender</th>\n",
       "      <th>age</th>\n",
       "      <th>tenure</th>\n",
       "      <th>balance</th>\n",
       "      <th>products_number</th>\n",
       "      <th>credit_card</th>\n",
       "      <th>active_member</th>\n",
       "      <th>estimated_salary</th>\n",
       "      <th>churn</th>\n",
       "      <th>credit_score_std</th>\n",
       "      <th>age_std</th>\n",
       "    </tr>\n",
       "  </thead>\n",
       "  <tbody>\n",
       "    <tr>\n",
       "      <th>0</th>\n",
       "      <td>15765192</td>\n",
       "      <td>564</td>\n",
       "      <td>France</td>\n",
       "      <td>1</td>\n",
       "      <td>26</td>\n",
       "      <td>7</td>\n",
       "      <td>84006.88</td>\n",
       "      <td>2</td>\n",
       "      <td>0</td>\n",
       "      <td>0</td>\n",
       "      <td>183490.99</td>\n",
       "      <td>0</td>\n",
       "      <td>-0.88</td>\n",
       "      <td>-1.23</td>\n",
       "    </tr>\n",
       "    <tr>\n",
       "      <th>1</th>\n",
       "      <td>15631882</td>\n",
       "      <td>688</td>\n",
       "      <td>Germany</td>\n",
       "      <td>1</td>\n",
       "      <td>45</td>\n",
       "      <td>9</td>\n",
       "      <td>103399.87</td>\n",
       "      <td>1</td>\n",
       "      <td>0</td>\n",
       "      <td>0</td>\n",
       "      <td>129870.93</td>\n",
       "      <td>0</td>\n",
       "      <td>0.40</td>\n",
       "      <td>0.56</td>\n",
       "    </tr>\n",
       "    <tr>\n",
       "      <th>2</th>\n",
       "      <td>15777586</td>\n",
       "      <td>784</td>\n",
       "      <td>Spain</td>\n",
       "      <td>0</td>\n",
       "      <td>42</td>\n",
       "      <td>2</td>\n",
       "      <td>109052.04</td>\n",
       "      <td>2</td>\n",
       "      <td>1</td>\n",
       "      <td>0</td>\n",
       "      <td>6409.55</td>\n",
       "      <td>0</td>\n",
       "      <td>1.39</td>\n",
       "      <td>0.27</td>\n",
       "    </tr>\n",
       "    <tr>\n",
       "      <th>3</th>\n",
       "      <td>15577107</td>\n",
       "      <td>657</td>\n",
       "      <td>Spain</td>\n",
       "      <td>0</td>\n",
       "      <td>22</td>\n",
       "      <td>6</td>\n",
       "      <td>0.00</td>\n",
       "      <td>3</td>\n",
       "      <td>0</td>\n",
       "      <td>1</td>\n",
       "      <td>168412.07</td>\n",
       "      <td>1</td>\n",
       "      <td>0.08</td>\n",
       "      <td>-1.61</td>\n",
       "    </tr>\n",
       "    <tr>\n",
       "      <th>4</th>\n",
       "      <td>15722731</td>\n",
       "      <td>653</td>\n",
       "      <td>France</td>\n",
       "      <td>1</td>\n",
       "      <td>46</td>\n",
       "      <td>0</td>\n",
       "      <td>119556.10</td>\n",
       "      <td>1</td>\n",
       "      <td>1</td>\n",
       "      <td>0</td>\n",
       "      <td>78250.13</td>\n",
       "      <td>1</td>\n",
       "      <td>0.03</td>\n",
       "      <td>0.65</td>\n",
       "    </tr>\n",
       "  </tbody>\n",
       "</table>\n",
       "</div>"
      ],
      "text/plain": [
       "   customer_id  credit_score  country  gender  age  tenure   balance  \\\n",
       "0     15765192           564   France       1   26       7  84006.88   \n",
       "1     15631882           688  Germany       1   45       9 103399.87   \n",
       "2     15777586           784    Spain       0   42       2 109052.04   \n",
       "3     15577107           657    Spain       0   22       6      0.00   \n",
       "4     15722731           653   France       1   46       0 119556.10   \n",
       "\n",
       "   products_number  credit_card  active_member  estimated_salary  churn  \\\n",
       "0                2            0              0         183490.99      0   \n",
       "1                1            0              0         129870.93      0   \n",
       "2                2            1              0           6409.55      0   \n",
       "3                3            0              1         168412.07      1   \n",
       "4                1            1              0          78250.13      1   \n",
       "\n",
       "   credit_score_std  age_std  \n",
       "0             -0.88    -1.23  \n",
       "1              0.40     0.56  \n",
       "2              1.39     0.27  \n",
       "3              0.08    -1.61  \n",
       "4              0.03     0.65  "
      ]
     },
     "execution_count": 19,
     "metadata": {},
     "output_type": "execute_result"
    }
   ],
   "source": [
    "dados2['credit_score_std'] = normaliza(dados2.credit_score)\n",
    "dados2['age_std'] = normaliza(dados2.age)\n",
    "dados2.head()"
   ]
  },
  {
   "cell_type": "code",
   "execution_count": 20,
   "metadata": {},
   "outputs": [],
   "source": [
    "colunas = {\n",
    "    'y': 'churn',\n",
    "    'x': ['credit_score', 'gender', 'age', 'credit_card'],\n",
    "    'x_std': ['credit_score_std', 'gender', 'age_std', 'credit_card']\n",
    "    }"
   ]
  },
  {
   "cell_type": "code",
   "execution_count": 21,
   "metadata": {},
   "outputs": [],
   "source": [
    "y = dados2[colunas['y']]\n",
    "X_mat = matriz_x(colunas = colunas['x'], dados2=dados2)\n",
    "X_mat_std = matriz_x(colunas=colunas['x_std'], dados2=dados2)"
   ]
  },
  {
   "cell_type": "markdown",
   "metadata": {},
   "source": [
    "Newthon-raphson "
   ]
  },
  {
   "cell_type": "code",
   "execution_count": 30,
   "metadata": {},
   "outputs": [],
   "source": [
    "#calculo feito da mao \n",
    "\n",
    "\n",
    "#betas = beta_inicial(X_mat)\n",
    "#p = calcula_p(X=X_mat, B=betas)\n",
    "#w = np.dig(p)\n",
    "\n",
    "#for i in range(20):\n",
    "    #p  = calcula_p(X=X_mat, B=betas)\n",
    "    #w = np.dig(p)\n",
    "    #beta_k1 = beta_update(X=X_mat, w=w, y=y, p=p)\n",
    "    #betas = betas = beta_k1"
   ]
  },
  {
   "cell_type": "code",
   "execution_count": 23,
   "metadata": {},
   "outputs": [],
   "source": [
    "betas = beta_inicial(X_mat)\n",
    "for i in range(20):\n",
    "    p = calcula_p(X=X_mat, B=betas)\n",
    "    w = w_diag(p)\n",
    "    beta_k1 = beta_update(X=X_mat, w=w, y=y, p=p)\n",
    "    betas = beta_k1"
   ]
  },
  {
   "cell_type": "code",
   "execution_count": 24,
   "metadata": {},
   "outputs": [
    {
     "name": "stdout",
     "output_type": "stream",
     "text": [
      "Betas ajustados via Newton-Raphson:\n",
      "[-0.00193388 -0.26011322  0.02254072 -0.10364824]\n"
     ]
    }
   ],
   "source": [
    "print(\"Betas ajustados via Newton-Raphson:\")\n",
    "print(betas)"
   ]
  },
  {
   "cell_type": "code",
   "execution_count": 25,
   "metadata": {},
   "outputs": [],
   "source": [
    "#gradiente decendente \n",
    "betas_std = beta_inicial(X_mat_std)\n",
    "lr = 0.01 \n",
    "m = X_mat.shape[0]\n",
    "\n",
    "for i in range(20000):\n",
    "    p = calcula_p(X=X_mat, B=betas_std)\n",
    "    grad_beta = -(1/m)* X_mat_std.T @ (y-p)\n",
    "    betas_std = betas_std - lr * grad_beta"
   ]
  },
  {
   "cell_type": "code",
   "execution_count": 26,
   "metadata": {},
   "outputs": [
    {
     "name": "stdout",
     "output_type": "stream",
     "text": [
      "Betas ajustados via Gradiente Descendente:\n",
      "[  -0.37100439  -88.02531276   19.77156529 -110.11600126]\n"
     ]
    }
   ],
   "source": [
    "print(\"Betas ajustados via Gradiente Descendente:\")\n",
    "print(betas_std)"
   ]
  },
  {
   "cell_type": "code",
   "execution_count": 27,
   "metadata": {},
   "outputs": [
    {
     "data": {
      "text/plain": [
       "LogisticRegression()"
      ]
     },
     "execution_count": 27,
     "metadata": {},
     "output_type": "execute_result"
    }
   ],
   "source": [
    "from sklearn.linear_model import LogisticRegression\n",
    "sk_logistica = LogisticRegression()\n",
    "sk_logistica.fit(dados2[colunas['x']], y)\n",
    "pred_sk = sk_logistica.predict_proba(dados2[colunas['x']][:5])"
   ]
  },
  {
   "cell_type": "code",
   "execution_count": 28,
   "metadata": {},
   "outputs": [
    {
     "name": "stdout",
     "output_type": "stream",
     "text": [
      "Betas:\n",
      "Sklearn:        [-3.2706e+00 -6.0000e-04 -4.9520e-01  6.4200e-02 -5.2900e-02]\n",
      "Newton-Raphson: [-0.0019 -0.2601  0.0225 -0.1036]\n",
      "Gradiente:      [  -0.37100439  -88.02531276   19.77156529 -110.11600126]\n"
     ]
    }
   ],
   "source": [
    "print(\"Betas:\")\n",
    "print(f\"Sklearn:        {np.round([sk_logistica.intercept_[0]] + sk_logistica.coef_[0].tolist(), 4)}\")\n",
    "print(f\"Newton-Raphson: {np.round(betas, 4)}\")\n",
    "print(f\"Gradiente:      {np.round(betas_std, 8)}\")"
   ]
  },
  {
   "cell_type": "code",
   "execution_count": 29,
   "metadata": {},
   "outputs": [
    {
     "name": "stdout",
     "output_type": "stream",
     "text": [
      "Probabilidade de churn para as 5 primeiras observações:\n",
      "scikit-learn:     [0.0789822, 0.2115567, 0.2447008, 0.0930356, 0.217212]\n",
      "Newton-Raphson:   [0.31761325 0.35978685 0.33780328 0.31547138 0.35670113]\n",
      "Gradiente:        [2.20026965e-49 3.02723898e-34 2.01663880e-46 1.53531143e-14\n",
      " 3.34284837e-81]\n"
     ]
    }
   ],
   "source": [
    "print(f\"Probabilidade de churn para as 5 primeiras observações:\")\n",
    "print(f\"scikit-learn:     {[np.round(x[1], 7) for x in pred_sk]}\")\n",
    "print(f\"Newton-Raphson:   {calcula_p(X_mat[:5,:], betas)}\")\n",
    "print(f\"Gradiente:        {calcula_p(X_mat_std[:5,:], betas_std)}\")"
   ]
  },
  {
   "cell_type": "code",
   "execution_count": 31,
   "metadata": {},
   "outputs": [],
   "source": [
    "#calculo de probabilidade \n",
    "dados_teste = pd.read_csv(r'c:\\Users\\rsc01\\Downloads\\bank_customer_treino (1).csv')\n"
   ]
  },
  {
   "cell_type": "code",
   "execution_count": 32,
   "metadata": {},
   "outputs": [
    {
     "name": "stdout",
     "output_type": "stream",
     "text": [
      "Probabilidade de churn (Newton-Raphson):\n",
      "[0.31761325 0.35978685 0.33780328 ... 0.47663265 0.26275218 0.42828604]\n",
      "Probabilidade de churn (Gradiente Descendente):\n",
      "[2.20026965e-49 3.02723898e-34 2.01663880e-46 ... 1.68523420e-47\n",
      " 1.82636934e-89 1.88207318e-05]\n",
      "Probabilidade de churn (sklearn):\n",
      "[0.07898225 0.21155673 0.24470077 ... 0.25930956 0.11969149 0.18354003]\n",
      "Comparação das probabilidades de churn para os primeiros clientes:\n",
      "   Cliente  Probabilidade_NR  Probabilidade_GD  Probabilidade_sklearn\n",
      "0        0              0.32              0.00                   0.08\n",
      "1        1              0.36              0.00                   0.21\n",
      "2        2              0.34              0.00                   0.24\n",
      "3        3              0.32              0.00                   0.09\n",
      "4        4              0.36              0.00                   0.22\n"
     ]
    }
   ],
   "source": [
    "# 2. Pré-processamento similar à base de treino\n",
    "dados_teste['gender'] = np.where(dados_teste.gender == \"Male\", 1, 0)\n",
    "dados_teste['credit_score_std'] = normaliza(dados_teste['credit_score'])\n",
    "dados_teste['age_std'] = normaliza(dados_teste['age'])\n",
    "\n",
    "# 3. Criar a matriz X para os dados de teste\n",
    "X_teste = matriz_x(colunas=colunas['x'], dados2=dados_teste)  # Matriz com os dados originais\n",
    "X_teste_std = matriz_x(colunas=colunas['x_std'], dados2=dados_teste)  # Matriz com os dados padronizados\n",
    "\n",
    "# 4. Função para calcular a probabilidade de churn\n",
    "def calcula_probabilidade(X, betas):\n",
    "    z = X @ betas\n",
    "    return 1 / (1 + np.exp(-z))\n",
    "\n",
    "# 5. Calcular a probabilidade de churn usando Newton-Raphson\n",
    "probabilidades_nr = calcula_probabilidade(X_teste, betas)\n",
    "print(\"Probabilidade de churn (Newton-Raphson):\")\n",
    "print(probabilidades_nr)\n",
    "\n",
    "# 6. Calcular a probabilidade de churn usando Gradiente Descendente\n",
    "probabilidades_gd = calcula_probabilidade(X_teste_std, betas_std)\n",
    "print(\"Probabilidade de churn (Gradiente Descendente):\")\n",
    "print(probabilidades_gd)\n",
    "\n",
    "# 7. Calcular a probabilidade de churn usando o modelo ajustado pelo sklearn\n",
    "pred_sk_teste = sk_logistica.predict_proba(dados_teste[colunas['x']])[:, 1]\n",
    "print(\"Probabilidade de churn (sklearn):\")\n",
    "print(pred_sk_teste)\n",
    "\n",
    "# Comparar as três probabilidades (exibindo as primeiras linhas)\n",
    "df_resultados = pd.DataFrame({\n",
    "    'Cliente': dados_teste.index,\n",
    "    'Probabilidade_NR': probabilidades_nr,\n",
    "    'Probabilidade_GD': probabilidades_gd,\n",
    "    'Probabilidade_sklearn': pred_sk_teste\n",
    "})\n",
    "\n",
    "print(\"Comparação das probabilidades de churn para os primeiros clientes:\")\n",
    "print(df_resultados.head())"
   ]
  }
 ],
 "metadata": {
  "kernelspec": {
   "display_name": "base",
   "language": "python",
   "name": "python3"
  },
  "language_info": {
   "codemirror_mode": {
    "name": "ipython",
    "version": 3
   },
   "file_extension": ".py",
   "mimetype": "text/x-python",
   "name": "python",
   "nbconvert_exporter": "python",
   "pygments_lexer": "ipython3",
   "version": "3.9.13"
  }
 },
 "nbformat": 4,
 "nbformat_minor": 2
}
